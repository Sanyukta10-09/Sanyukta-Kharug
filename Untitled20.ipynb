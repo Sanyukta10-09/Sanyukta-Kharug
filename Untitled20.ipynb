{
  "nbformat": 4,
  "nbformat_minor": 0,
  "metadata": {
    "colab": {
      "provenance": [],
      "authorship_tag": "ABX9TyOXdHjU/ItWl7fb8ar9gZb4",
      "include_colab_link": true
    },
    "kernelspec": {
      "name": "python3",
      "display_name": "Python 3"
    },
    "language_info": {
      "name": "python"
    }
  },
  "cells": [
    {
      "cell_type": "markdown",
      "metadata": {
        "id": "view-in-github",
        "colab_type": "text"
      },
      "source": [
        "<a href=\"https://colab.research.google.com/github/Sanyukta10-09/Sanyukta-Kharug/blob/main.a-2/Untitled20.ipynb\" target=\"_parent\"><img src=\"https://colab.research.google.com/assets/colab-badge.svg\" alt=\"Open In Colab\"/></a>"
      ]
    },
    {
      "cell_type": "code",
      "execution_count": null,
      "metadata": {
        "id": "-VZ8RGFXlZaT"
      },
      "outputs": [],
      "source": [
        "# WeatherWise: What's This Project All About?\n",
        "\n",
        "## The Big Picture\n",
        "\n",
        "You'll build a weather app called \"Weather Advisor\" that combines real weather data with AI conversation abilities. Think of it as a smart weather assistant that can answer questions like \"Should I take an umbrella tomorrow?\" or \"What's the temperature going to be like this weekend in Sydney?\"\n",
        "\n",
        "## What You'll Create\n",
        "\n",
        "This project has two main parts:\n",
        "\n",
        "1. **Weather Information Display**\n",
        "   - Gets current weather and forecasts for any location\n",
        "   - Shows useful charts and graphs of temperature and rain chances\n",
        "   - Presents weather data in a clear, organised way\n",
        "\n",
        "2. **Conversation Feature**\n",
        "   - Lets users ask questions in everyday language\n",
        "   - Understands what weather information they need\n",
        "   - Responds in a natural, helpful way\n",
        "\n",
        "## How You'll Build It\n",
        "\n",
        "You'll:\n",
        "- Write Python code to get weather data from online services\n",
        "- Create visual charts to show weather patterns\n",
        "- Build a user-friendly menu system\n",
        "- Program the app to understand weather questions\n",
        "- Use AI tools to help with coding challenges\n",
        "- Document how you used AI to solve problems\n",
        "\n",
        "## Learning Value\n",
        "\n",
        "This project helps you learn:\n",
        "- How to build a complete, working application\n",
        "- Creating useful data visualisations\n",
        "- Making intuitive user interfaces\n",
        "- Working effectively with AI coding assistants\n",
        "- Using version control (GitHub)\n",
        "- Writing well-structured, maintainable code\n",
        "\n",
        "## Assessment Approach\n",
        "\n",
        "You'll be graded on:\n",
        "- Whether your app works as expected (15%) - shown in AI conversations\n",
        "- Quality of your code (10%) - refined through AI conversations\n",
        "- How well you organised your work (10%) - planned in AI conversations\n",
        "- How easy your app is to use (10%) - iterated in AI conversations\n",
        "- How effectively you used AI tools (30%) - demonstrated by strategic prompting\n",
        "- Quality of your AI interactions (15%) - showing your problem-solving journey\n",
        "- Technical implementation choices (10%) - explained in AI conversations\n",
        "\n",
        "## Why This Project Matters\n",
        "\n",
        "This assignment gives you practical experience creating a useful application while learning to work effectively with AI tools. It's designed to be challenging but achievable, bringing together many skills you've learnt throughout the course. The focus isn't just on the final product, but on your journey of development and problem-solving.\n",
        "\n",
        "By the end, you'll have created something practical that demonstrates your programming abilities and your skill in directing AI tools to achieve specific goals - an increasingly important skill in today's technology landscape."
      ]
    }
  ]
}